{
  "nbformat": 4,
  "nbformat_minor": 0,
  "metadata": {
    "colab": {
      "provenance": [],
      "authorship_tag": "ABX9TyPD4J6DwChGnDerqM8OAC1G",
      "include_colab_link": true
    },
    "kernelspec": {
      "name": "python3",
      "display_name": "Python 3"
    },
    "language_info": {
      "name": "python"
    }
  },
  "cells": [
    {
      "cell_type": "markdown",
      "metadata": {
        "id": "view-in-github",
        "colab_type": "text"
      },
      "source": [
        "<a href=\"https://colab.research.google.com/github/sandhrabijoy/Time-series/blob/main/crossvalidation.ipynb\" target=\"_parent\"><img src=\"https://colab.research.google.com/assets/colab-badge.svg\" alt=\"Open In Colab\"/></a>"
      ]
    },
    {
      "cell_type": "code",
      "execution_count": 1,
      "metadata": {
        "id": "Yn7faP25enwS"
      },
      "outputs": [],
      "source": [
        "import plotly.graph_objects as go\n",
        "import pandas as pd\n",
        "from sklearn.model_selection import KFold"
      ]
    },
    {
      "cell_type": "code",
      "source": [
        "import pandas as pd\n",
        "import plotly.graph_objects as go\n",
        "\n",
        "def plot_cross_val(n_splits: int,\n",
        "                   splitter_func,\n",
        "                   df: pd.DataFrame,\n",
        "                   title_text: str) -> None:\n",
        "\n",
        "    split = 1\n",
        "    plot_data = []\n",
        "\n",
        "    # Generate indices for train and test splits\n",
        "    for train_index, valid_index in splitter_func(n_splits=n_splits).split(df):\n",
        "        plot_data.append([train_index, 'Train', f'{split}'])\n",
        "        plot_data.append([valid_index, 'Test', f'{split}'])\n",
        "        split += 1\n",
        "\n",
        "    # Create a DataFrame for plotting\n",
        "    plot_df = pd.DataFrame(plot_data, columns=['Index', 'Dataset', 'Split']).explode('Index')\n",
        "    plot_df['Index'] = plot_df['Index'].astype(int)\n",
        "\n",
        "\n",
        "    fig = go.Figure()\n",
        "\n",
        "    # Add traces for each split\n",
        "    for split, group in plot_df.groupby('Split'):\n",
        "        train_group = group[group['Dataset'] == 'Train']\n",
        "        test_group = group[group['Dataset'] == 'Test']\n",
        "\n",
        "        fig.add_trace(go.Scatter(\n",
        "            x=train_group['Index'], y=train_group['Split'],\n",
        "            name='Train', mode='lines+markers',\n",
        "            line=dict(color=\"blue\", width=10)))\n",
        "\n",
        "        fig.add_trace(go.Scatter(\n",
        "            x=test_group['Index'], y=test_group['Split'],\n",
        "            name='Test', mode='lines+markers',\n",
        "            line=dict(color=\"goldenrod\", width=10)))\n",
        "\n",
        "    # Update layout\n",
        "    fig.update_layout(\n",
        "        template=\"simple_white\",\n",
        "        font=dict(size=16),\n",
        "        title_text=title_text,\n",
        "        title_x=0.5,\n",
        "        width=850,\n",
        "        height=450,\n",
        "        xaxis_title='Index',\n",
        "        yaxis_title='Split',\n",
        "        showlegend=True\n",
        "    )\n",
        "\n",
        "    legend_names = set()\n",
        "    fig.for_each_trace(\n",
        "        lambda trace: trace.update(showlegend=False)\n",
        "        if (trace.name in legend_names) else legend_names.add(trace.name)\n",
        "    )\n",
        "\n",
        "    fig.show()\n"
      ],
      "metadata": {
        "id": "rxBB4UWGe4-Z"
      },
      "execution_count": 6,
      "outputs": []
    },
    {
      "cell_type": "code",
      "source": [],
      "metadata": {
        "id": "YWyfWXRjgqoE"
      },
      "execution_count": null,
      "outputs": []
    }
  ]
}