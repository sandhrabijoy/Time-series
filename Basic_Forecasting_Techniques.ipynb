{
  "nbformat": 4,
  "nbformat_minor": 0,
  "metadata": {
    "colab": {
      "provenance": [],
      "mount_file_id": "1FCfGSdGDo3Bw6718xf-vk0vlp_YDz1cK",
      "authorship_tag": "ABX9TyPfvz12rPZKYqhTGiFs0PZG",
      "include_colab_link": true
    },
    "kernelspec": {
      "name": "python3",
      "display_name": "Python 3"
    },
    "language_info": {
      "name": "python"
    }
  },
  "cells": [
    {
      "cell_type": "markdown",
      "metadata": {
        "id": "view-in-github",
        "colab_type": "text"
      },
      "source": [
        "<a href=\"https://colab.research.google.com/github/sandhrabijoy/Time-series/blob/main/Basic_Forecasting_Techniques.ipynb\" target=\"_parent\"><img src=\"https://colab.research.google.com/assets/colab-badge.svg\" alt=\"Open In Colab\"/></a>"
      ]
    },
    {
      "cell_type": "code",
      "execution_count": 1,
      "metadata": {
        "id": "t368WTCGCZ4E"
      },
      "outputs": [],
      "source": [
        "import plotly.graph_objects as go\n",
        "import pandas as pd"
      ]
    },
    {
      "cell_type": "code",
      "source": [
        "df = pd.read_csv(\"/content/AirPassengers.csv\")"
      ],
      "metadata": {
        "id": "el8VBfHsCpsT"
      },
      "execution_count": 4,
      "outputs": []
    },
    {
      "cell_type": "code",
      "source": [
        "df['Month']=pd.to_datetime(df['Month'])"
      ],
      "metadata": {
        "id": "3Z7Z9TM8C6kR"
      },
      "execution_count": 5,
      "outputs": []
    },
    {
      "cell_type": "code",
      "source": [
        "train = df.iloc[:-int(len(df)*0.2)]\n",
        "test = df.iloc[-int(len(df)*0.2):]"
      ],
      "metadata": {
        "id": "4emG8rUSC7ij"
      },
      "execution_count": 6,
      "outputs": []
    },
    {
      "cell_type": "code",
      "source": [
        "def plot_func(forecast,title):\n",
        "  fig = go.Figure()\n",
        "  fig.add_trace(go.Scatter(x=train['Month'],y=train['#Passengers'],name='Train'))\n",
        "  fig.add_trace(go.Scatter(x=test['Month'],y=forecast,name='Test'))\n",
        "  fig.update_layout(template=\"simple_white\",font=dict(size=18),title_text=title,width=650 ,title_x=0.5,height=400,xaxis_title='Date',yaxis_title='Passenger Volume')"
      ],
      "metadata": {
        "id": "pwBYblcSDxlu"
      },
      "execution_count": 10,
      "outputs": []
    },
    {
      "cell_type": "code",
      "source": [
        "#average forecast\n",
        "test.loc[:,'mean_forecast'] = train['#Passengers'].mean()\n",
        "plot_func(test['mean_forecast'],'Average Forecast')"
      ],
      "metadata": {
        "id": "YQHzU5rLFBl6"
      },
      "execution_count": 12,
      "outputs": []
    },
    {
      "cell_type": "code",
      "source": [],
      "metadata": {
        "id": "0iBEenqiF6wz"
      },
      "execution_count": null,
      "outputs": []
    }
  ]
}