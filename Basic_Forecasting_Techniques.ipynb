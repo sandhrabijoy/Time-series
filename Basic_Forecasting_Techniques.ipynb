{
  "nbformat": 4,
  "nbformat_minor": 0,
  "metadata": {
    "colab": {
      "provenance": [],
      "mount_file_id": "1FCfGSdGDo3Bw6718xf-vk0vlp_YDz1cK",
      "authorship_tag": "ABX9TyMaqMpNKGnsu+1v+wzqjmcE",
      "include_colab_link": true
    },
    "kernelspec": {
      "name": "python3",
      "display_name": "Python 3"
    },
    "language_info": {
      "name": "python"
    }
  },
  "cells": [
    {
      "cell_type": "markdown",
      "metadata": {
        "id": "view-in-github",
        "colab_type": "text"
      },
      "source": [
        "<a href=\"https://colab.research.google.com/github/sandhrabijoy/Time-series/blob/main/Basic_Forecasting_Techniques.ipynb\" target=\"_parent\"><img src=\"https://colab.research.google.com/assets/colab-badge.svg\" alt=\"Open In Colab\"/></a>"
      ]
    },
    {
      "cell_type": "code",
      "execution_count": 1,
      "metadata": {
        "id": "t368WTCGCZ4E"
      },
      "outputs": [],
      "source": [
        "import plotly.graph_objects as go\n",
        "import pandas as pd"
      ]
    },
    {
      "cell_type": "code",
      "source": [
        "df = pd.read_csv(\"/content/AirPassengers.csv\")"
      ],
      "metadata": {
        "id": "el8VBfHsCpsT"
      },
      "execution_count": 4,
      "outputs": []
    },
    {
      "cell_type": "code",
      "source": [
        "df['Month']=pd.to_datetime(df['Month'])"
      ],
      "metadata": {
        "id": "3Z7Z9TM8C6kR"
      },
      "execution_count": 5,
      "outputs": []
    },
    {
      "cell_type": "code",
      "source": [
        "train = df.iloc[:-int(len(df)*0.2)]\n",
        "test = df.iloc[-int(len(df)*0.2):]"
      ],
      "metadata": {
        "id": "4emG8rUSC7ij"
      },
      "execution_count": 6,
      "outputs": []
    },
    {
      "cell_type": "code",
      "source": [],
      "metadata": {
        "id": "pwBYblcSDxlu"
      },
      "execution_count": null,
      "outputs": []
    }
  ]
}